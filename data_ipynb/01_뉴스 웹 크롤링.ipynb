{
 "cells": [
  {
   "cell_type": "code",
   "execution_count": 29,
   "metadata": {
    "scrolled": true
   },
   "outputs": [
    {
     "name": "stdout",
     "output_type": "stream",
     "text": [
      " 1. \"아이 숨 안쉬다\" 21개월 여아에 발 올린 어린이집 원장 영장\n",
      " 2. 강제로 재우려 발로 압박···21개월 아이 어린이집서 숨졌다\n",
      " 3. 이틀째 500명대 비상…당국 \"송구할 정도로 상황 좋지 않다\"\n",
      " 4. '8살 딸 학대 살해' 20대 엄마, 조산 가능성에 석방\n",
      " 5. 인천시, 군구에 아동학대 전담공무원 44명 배치... 아동학대 초기대응 책임진다\n",
      " 6. 초록우산어린이재단 '전국 감사편지 공모전' 홍보대사 장성규 위촉\n",
      " 7. 헌재 “초·중등교사 아동학대 땐 부모보다 가중처벌…합헌”\n",
      " 8. 구미 3세 여아 세번째 생일···\"그곳선 행복하니” 추모 물결\n",
      " 9. 범죄예방상·아동친화상 받은 구미, 어쩌다 '극단도시' 됐나\n",
      "10. 어린이집서 잠자던 두살배기 여아 숨진 채 발견…경찰, “부검 및 수사”\n"
     ]
    }
   ],
   "source": [
    "# 중앙일보 \n",
    "import requests\n",
    "from bs4 import BeautifulSoup\n",
    "url= \"https://news.joins.com/search/?keyword=%EC%95%84%EB%8F%99%ED%95%99%EB%8C%80\"\n",
    "news_list=requests.get(url)\n",
    "soup = BeautifulSoup(news_list.content,\"html.parser\")\n",
    "title_list=soup.select(\"h2.headline.mg > a\")\n",
    "results=\"\"\n",
    "for idx in range (len(title_list)):\n",
    "    print(\"{:2d}. {}\".format(idx+1,title_list[idx].text))\n",
    "    result=  \"{:2d}. {}\".format(idx+1,title_list[idx].text)+ \"\\n\"\n",
    "    results +=result\n",
    "with open('data/news_JA.txt','w',encoding='utf-8') as f:\n",
    "    f.write(results)"
   ]
  },
  {
   "cell_type": "code",
   "execution_count": 35,
   "metadata": {
    "scrolled": true
   },
   "outputs": [
    {
     "name": "stdout",
     "output_type": "stream",
     "text": [
      "11. 7개월 딸 뇌사 빠뜨린 외국인 친모 송치…고개 숙인 채 '침묵'\n",
      "12. 조카 물고문 이모, 첫 재판서 \"난 종교인…살인 의도 없었다\"\n",
      "13. 정 총리 \"오늘부터 '긴급고용안정지원금' 지급\"\n",
      "14. \"뇌 4분의 3 손상\"…7개월 딸 12번 내동댕이친 외국인 친모\n",
      "15. 1m 높이서 반복해 던졌다…7개월딸 뇌사 빠뜨린 외국인 친모\n",
      "16. \"아이 몸 이상해…병원서 뇌사 판정\" 다문화가정 친모 구속\n",
      "17. [더오래]사장이 이사회 결의 없이 빚 보증, 그돈 물어줘야 할까\n",
      "18. [단독]남편 \"아기 바꿔치기? 속옷차림도 봤다, 내가 바보냐\"\n",
      "19. “연예인 시켜줄게” 미성년 성 학대 前 치과의사, 2심서 감형\n",
      "20. 생후 20일 아기 발 낚아채듯 들어올린 산후도우미…경찰 수사 중\n"
     ]
    }
   ],
   "source": [
    "#1\n",
    "url1 = \"https://news.joins.com/Search/JoongangNews?page=2&Keyword=%EC%95%84%EB%8F%99%ED%95%99%EB%8C%80&SortType=New&SearchCategoryType=JoongangNews\"\n",
    "news_list1=requests.get(url1)\n",
    "soup = BeautifulSoup(news_list1.content,\"html.parser\")\n",
    "title_list1=soup.select(\"h2.headline.mg > a\")\n",
    "results1=\"\"\n",
    "for idx in range (len(title_list1)):\n",
    "    print(\"{:2d}. {}\".format(idx+11,title_list1[idx].text))\n",
    "    result1=  \"{:2d}. {}\".format(idx+11,title_list1[idx].text)+ \"\\n\"\n",
    "    results1 +=result1\n",
    "with open('data/news_JA1.txt','w',encoding='utf-8') as f:\n",
    "    f.write(results1)"
   ]
  },
  {
   "cell_type": "code",
   "execution_count": 36,
   "metadata": {},
   "outputs": [
    {
     "name": "stdout",
     "output_type": "stream",
     "text": [
      "21. 생후 5개월 아기 쓰레기더미 속 방치한 30대 실형\n",
      "22. 5년간 의붓딸 성폭행한 '인면수심' 40대…징역 18년 선고\n",
      "23. 인천시, 어린이집 아동학대 예방 종합대책 즉각 시행\n",
      "24. '밥 안먹어' 6세 의자 뒤로 빼버리고…그게 \"훈육\"이라는 교사\n",
      "25. '멍 자국' 없어도 아동학대 의심되면 즉각분리...쉼터확보 관건\n",
      "26. '베개 풀스윙' 장애아동 폭행…교사들 수의 입고 법정 섰다\n",
      "27. 美 인권보고서에 등장한 조국·박원순·윤미향·오거돈…\"韓 부패 사례\"\n",
      "28. 애 던지고 버리고 죽이고…'아동친화도시' 구미 황망한 오늘\n",
      "29. '박원순 팔짱' 진혜원 \"저쪽서 사소한 말도 2차가해 몰아세워\"\n",
      "30. 밥 안 먹는다고 6세 아동 허벅지 발로 밟은 어린이집 교사 구속\n"
     ]
    }
   ],
   "source": [
    "#2\n",
    "url2=\"https://news.joins.com/Search/JoongangNews?page=3&Keyword=%EC%95%84%EB%8F%99%ED%95%99%EB%8C%80&SortType=New&SearchCategoryType=JoongangNews\"\n",
    "news_list2=requests.get(url2)\n",
    "soup = BeautifulSoup(news_list2.content,\"html.parser\")\n",
    "title_list2=soup.select(\"h2.headline.mg > a\")\n",
    "results2=\"\"\n",
    "for idx in range (len(title_list2)):\n",
    "    print(\"{:2d}. {}\".format(idx+21,title_list2[idx].text))\n",
    "    result2=  \"{:2d}. {}\".format(idx+21,title_list2[idx].text)+ \"\\n\"\n",
    "    results2 +=result2\n",
    "with open('data/news_JA2.txt','w',encoding='utf-8') as f:\n",
    "    f.write(results2)"
   ]
  },
  {
   "cell_type": "code",
   "execution_count": 37,
   "metadata": {},
   "outputs": [
    {
     "name": "stdout",
     "output_type": "stream",
     "text": [
      "31. 시신 발견한 구미 3세 친모, 딸에 전화 걸어 \"내가 치울게\"\n",
      "32. \"발로 정인이 밟은 듯\" 법의학자 증언 순간 양모 얼굴 찡그렸다\n",
      "33. 구미 3세 아이 얼굴 공개 논란…\"여론 환기\"vs\"피해아동 이용\"\n",
      "34. 20대 딸의 또 다른 아이…'3세 친모' 외할머니에게 맡겨졌다\n",
      "35. \"밥 왜 안먹어\" 6살 허벅지 밟은 교사…\"CCTV 속 끔찍한 장면\"\n",
      "36. 아동학대 공소시효 지난 양부…대법 “특례법 소급처벌 가능”\n",
      "37. 엄마 살해한 딸 “괴물 처단했다”…日 뒤집은 '교육 학대' 비극\n",
      "38. “출생ㆍ사망 미신고로 과태료 처분 대상 지난 5년간 13만명”\n",
      "39. \"나쁜 생각뿐\"…'라면 형제' 엄마 역시 가정폭력 피해자였다\n",
      "40. [오병상의 코멘터리] 얼차려..그때도,지금도 옳지않다\n"
     ]
    }
   ],
   "source": [
    "#3\n",
    "url3 = \"https://news.joins.com/Search/JoongangNews?page=4&Keyword=%EC%95%84%EB%8F%99%ED%95%99%EB%8C%80&SortType=New&SearchCategoryType=JoongangNews\"\n",
    "news_list1=requests.get(url3)\n",
    "soup = BeautifulSoup(news_list1.content,\"html.parser\")\n",
    "title_list3=soup.select(\"h2.headline.mg > a\")\n",
    "results3=\"\"\n",
    "for idx in range (len(title_list3)):\n",
    "    print(\"{:2d}. {}\".format(idx+31,title_list3[idx].text))\n",
    "    result3=  \"{:2d}. {}\".format(idx+31,title_list3[idx].text)+ \"\\n\"\n",
    "    results3 +=result3\n",
    "with open('data/news_JA3.txt','w',encoding='utf-8') as f:\n",
    "    f.write(results3)"
   ]
  },
  {
   "cell_type": "code",
   "execution_count": 38,
   "metadata": {},
   "outputs": [
    {
     "name": "stdout",
     "output_type": "stream",
     "text": [
      "41. 7개월 딸 뇌사 빠뜨린 외국인 친모 송치…고개 숙인 채 '침묵'\n",
      "42. 조카 물고문 이모, 첫 재판서 \"난 종교인…살인 의도 없었다\"\n",
      "43. 정 총리 \"오늘부터 '긴급고용안정지원금' 지급\"\n",
      "44. \"뇌 4분의 3 손상\"…7개월 딸 12번 내동댕이친 외국인 친모\n",
      "45. 1m 높이서 반복해 던졌다…7개월딸 뇌사 빠뜨린 외국인 친모\n",
      "46. \"아이 몸 이상해…병원서 뇌사 판정\" 다문화가정 친모 구속\n",
      "47. [더오래]사장이 이사회 결의 없이 빚 보증, 그돈 물어줘야 할까\n",
      "48. [단독]남편 \"아기 바꿔치기? 속옷차림도 봤다, 내가 바보냐\"\n",
      "49. “연예인 시켜줄게” 미성년 성 학대 前 치과의사, 2심서 감형\n",
      "50. 생후 20일 아기 발 낚아채듯 들어올린 산후도우미…경찰 수사 중\n"
     ]
    }
   ],
   "source": [
    "#4\n",
    "url4 = \"https://news.joins.com/Search/JoongangNews?page=2&Keyword=%EC%95%84%EB%8F%99%ED%95%99%EB%8C%80&SortType=New&SearchCategoryType=JoongangNews\"\n",
    "news_list4=requests.get(url4)\n",
    "soup = BeautifulSoup(news_list4.content,\"html.parser\")\n",
    "title_list4=soup.select(\"h2.headline.mg > a\")\n",
    "results4=\"\"\n",
    "for idx in range (len(title_list4)):\n",
    "    print(\"{:2d}. {}\".format(idx+41,title_list4[idx].text))\n",
    "    result4=  \"{:2d}. {}\".format(idx+41,title_list4[idx].text)+ \"\\n\"\n",
    "    results4 +=result4\n",
    "with open('data/news_JA4.txt','w',encoding='utf-8') as f:\n",
    "    f.write(results4)"
   ]
  },
  {
   "cell_type": "code",
   "execution_count": 55,
   "metadata": {},
   "outputs": [
    {
     "name": "stdout",
     "output_type": "stream",
     "text": [
      "51. ‘21개월 원생 학대’ 대전 어린이집 원장 입건…수사 확대\n",
      "52. 헌재 “보호아동 학대한 초·중등 교사 가중처벌은 합헌”\n",
      "53. 인천시, 아동학대 조사 전담공무원제 전면 시행\n",
      "54. ‘인천 8살 딸 학대 살해’ 20대 부부 구속기소\n",
      "55. “보챈다”며 7개월 딸 던져 뇌사시킨 외국인 20대 친모 구속\n",
      "56. 30일 시행 ‘학대아동 즉각분리’…일단 떼어놓으면 끝?\n",
      "57. 검찰, 6살 조카 학대한 외삼촌 부부에 ‘살인죄’ 적용\n",
      "58. 인천시, 어린이집 CCTV 수시점검…아동학대 감시 강화\n",
      "59. 정인이 부검의 “부검한 학대 사망 아동 중 신체 손상 제일 심해”\n",
      "60. 밥 안 먹는다고 6살 원생 허벅지 밟은 어린이집 교사 구속영장 청구\n"
     ]
    }
   ],
   "source": [
    "#한겨례\n",
    "url=\"http://search.hani.co.kr/Search?command=query&keyword=%EC%95%84%EB%8F%99%ED%95%99%EB%8C%80&sort=d&period=all&datefrom=1988.01.01&dateto=2021.04.03&media=news\"\n",
    "news_list=requests.get(url)\n",
    "soup = BeautifulSoup(news_list.content,\"html.parser\")\n",
    "title_list=soup.select(\"dl dt a\")\n",
    "results=\"\"\n",
    "for idx in range (len(title_list)):\n",
    "    print(\"{:2d}. {}\".format(idx+51,title_list[idx].text))\n",
    "    result=  \"{:2d}. {}\".format(idx+51,title_list[idx].text)+ \"\\n\"\n",
    "    results +=result\n",
    "with open('data/news_HKR.txt','w',encoding='utf-8') as f:\n",
    "    f.write(results)"
   ]
  },
  {
   "cell_type": "code",
   "execution_count": 56,
   "metadata": {},
   "outputs": [
    {
     "name": "stdout",
     "output_type": "stream",
     "text": [
      "61. [세상읽기] 미나리는 원더풀 / 조문영\n",
      "62. 대법원 “아동학대 공소시효 중단, 소급 적용 가능”\n",
      "63. 울산시, 반구대암각화 세계유산추진단·서부소방서 신설\n",
      "64. 조카 숨지게 한 이모, 군산 아내 살인사건 땐 가정폭력 피해자였다\n",
      "65. ‘인천 8살 어린이 사망’ 20대 부모 살인죄 적용\n",
      "66. 아동학대 민감도 높아지고 주거·안전 지표 나빠졌다\n",
      "67. [포토] 아동학대 대처법 수업, 이런 걸 배우게 해서 미안해\n",
      "68. 동일본 대지진 후 10년…“방사능 속으로 돌아갈 순 없다”\n",
      "69. ‘상습 아동학대’ 인천 국공립 어린이집 원장·보육교사 무더기 기소\n",
      "70. 제주 어린이집서도 아동학대…교사 5명 입건\n"
     ]
    }
   ],
   "source": [
    "#1\n",
    "url1=\"http://search.hani.co.kr/Search?command=query&keyword=%EC%95%84%EB%8F%99%ED%95%99%EB%8C%80&media=news&submedia=&sort=d&period=all&datefrom=1988.01.01&dateto=2021.04.03&pageseq=1\"\n",
    "news_list1=requests.get(url1)\n",
    "soup = BeautifulSoup(news_list1.content,\"html.parser\")\n",
    "title_list1=soup.select(\"dl dt a\")\n",
    "results1=\"\"\n",
    "for idx in range (len(title_list1)):\n",
    "    print(\"{:2d}. {}\".format(idx+61,title_list1[idx].text))\n",
    "    result1=  \"{:2d}. {}\".format(idx+61,title_list1[idx].text)+ \"\\n\"\n",
    "    results1 +=result1\n",
    "with open('data/news_HKR1.txt','w',encoding='utf-8') as f:\n",
    "    f.write(results1)"
   ]
  },
  {
   "cell_type": "code",
   "execution_count": 57,
   "metadata": {},
   "outputs": [
    {
     "name": "stdout",
     "output_type": "stream",
     "text": [
      "71. 죄는 미워해도 사람은 미워하지 말라\n",
      "72. “조카한테 귀신 들렸다”고 물고문 학대한 무속인 이모\n",
      "73. 아이들 다니는 시설서 일하는 ‘취업 제한’ 아동학대 전과자 20명 적발\n",
      "74. ‘10살 조카 물고문 살해’ 무속인 이모 “귀신 쫓으려고 때렸다”\n",
      "75. ‘인천 8살 딸 학대치사’ 혐의 20대 의붓아버지·친모 구속\n",
      "76. 8살 딸 학대치사 의붓아버지 “못할 행동 해서 미안하다”\n",
      "77. ‘6살 조카 학대치사’ 30대 외삼촌 부부 구속 검찰 송치\n",
      "78. 숨진 인천 8살 어린이, 지난해 5월 이후로 등교안해\n",
      "79. 온몸 멍든 8살 어린이 숨진 채 발견…“학대의심 부모 긴급체포”\n",
      "80. [김희경의 점선의 연결] 함께 돌아와 주는 손\n"
     ]
    }
   ],
   "source": [
    "#2\n",
    "url2=\"http://search.hani.co.kr/Search?command=query&keyword=%EC%95%84%EB%8F%99%ED%95%99%EB%8C%80&media=news&submedia=&sort=d&period=all&datefrom=1988.01.01&dateto=2021.04.03&pageseq=2\"\n",
    "news_list2=requests.get(url2)\n",
    "soup = BeautifulSoup(news_list2.content,\"html.parser\")\n",
    "title_list2=soup.select(\"dl dt a\")\n",
    "results2=\"\"\n",
    "for idx in range (len(title_list2)):\n",
    "    print(\"{:2d}. {}\".format(idx+71,title_list2[idx].text))\n",
    "    result2=  \"{:2d}. {}\".format(idx+71,title_list2[idx].text)+ \"\\n\"\n",
    "    results2 +=result2\n",
    "with open('data/news_HKR2.txt','w',encoding='utf-8') as f:\n",
    "    f.write(results2)"
   ]
  },
  {
   "cell_type": "code",
   "execution_count": 58,
   "metadata": {},
   "outputs": [
    {
     "name": "stdout",
     "output_type": "stream",
     "text": [
      "81. ‘보려면 수천만원 내라’던 어린이집 CCTV 영상…“비용 없이 볼 수 있다” 명시\n",
      "82. 3월 1일 엔지오\n",
      "83. ‘가덕도신공항 특별법’ 국회 본회의 통과… 181명 찬성\n",
      "84. [세상읽기] 엄벌주의로 쪼그라든 사회 / 임재성\n",
      "85. [정찬의 세상의 저녁] 정인이 죽음 앞에서\n",
      "86. 한겨울 ‘찬물학대’로 의붓 장애아들 숨지게 한 30대 징역 12년 확정\n",
      "87. 0~1살 ‘영아수당’ 2025년부터 월 50만원 지급 목표\n",
      "88. 가정양육 3살 아동 전수조사…아동학대 4건 발견\n",
      "89. 그를 죽인 4단계 폭력…피 나도록 때려도, 아무도 안 말렸다\n",
      "90. 제2 정인이 나오지 않게…아동학대 특별법 국회 상임위 상정\n"
     ]
    }
   ],
   "source": [
    "#3\n",
    "url3= \"http://search.hani.co.kr/Search?command=query&keyword=%EC%95%84%EB%8F%99%ED%95%99%EB%8C%80&media=news&submedia=&sort=d&period=all&datefrom=1988.01.01&dateto=2021.04.03&pageseq=3\"\n",
    "news_list3=requests.get(url3)\n",
    "soup = BeautifulSoup(news_list3.content,\"html.parser\")\n",
    "title_list3=soup.select(\"dl dt a\")\n",
    "results3=\"\"\n",
    "for idx in range (len(title_list3)):\n",
    "    print(\"{:2d}. {}\".format(idx+81,title_list3[idx].text))\n",
    "    result3=  \"{:2d}. {}\".format(idx+81,title_list3[idx].text)+ \"\\n\"\n",
    "    results3 +=result3\n",
    "with open('data/news_HKR3.txt','w',encoding='utf-8') as f:\n",
    "    f.write(results3)"
   ]
  },
  {
   "cell_type": "code",
   "execution_count": 59,
   "metadata": {},
   "outputs": [
    {
     "name": "stdout",
     "output_type": "stream",
     "text": [
      "91. 마음만 먹으면 뭐든 될 수 있다고?\n",
      "92. ‘생후 3개월 딸 학대치사’ 30대 친부, 남은 아들 친권 상실\n",
      "93. [왜냐면] 아동학대로 사라진 영혼들의 해원을 위하여 / 이태수\n",
      "94. 아동학대에 엄중해진 경찰…잇따라 “살인죄” 적용\n",
      "95. 아동학대 인천 국공립 어린이집 보육교사 6명·원장 검찰 송치\n",
      "96. 숨지기 하루 전, 16개월 영아 정인이는 모든 걸 포기한 모습이었다\n",
      "97. 경찰, 생후 2주 갓난아이 던져 숨지게 한 부모 살인죄 적용\n",
      "98. 조카 물고문 이모 부부에 ‘살인죄’ 적용…“미필적 고의 있다”\n",
      "99. 인권위, ‘정인이 사건’ 경찰 부실대응 조사 착수\n",
      "100. “아이들에 미안하지 않느냐” 침묵한 보육교사…구속영장 심사\n"
     ]
    }
   ],
   "source": [
    "#4\n",
    "url4=\"http://search.hani.co.kr/Search?command=query&keyword=%EC%95%84%EB%8F%99%ED%95%99%EB%8C%80&media=news&submedia=&sort=d&period=all&datefrom=1988.01.01&dateto=2021.04.03&pageseq=4\"\n",
    "news_list4=requests.get(url4)\n",
    "soup = BeautifulSoup(news_list4.content,\"html.parser\")\n",
    "title_list4=soup.select(\"dl dt a\")\n",
    "results4=\"\"\n",
    "for idx in range (len(title_list4)):\n",
    "    print(\"{:2d}. {}\".format(idx+91,title_list4[idx].text))\n",
    "    result4=  \"{:2d}. {}\".format(idx+91,title_list4[idx].text)+ \"\\n\"\n",
    "    results4 +=result4\n",
    "with open('data/news_HKR4.txt','w',encoding='utf-8') as f:\n",
    "    f.write(results4)"
   ]
  },
  {
   "cell_type": "code",
   "execution_count": null,
   "metadata": {},
   "outputs": [],
   "source": []
  }
 ],
 "metadata": {
  "kernelspec": {
   "display_name": "Python 3",
   "language": "python",
   "name": "python3"
  },
  "language_info": {
   "codemirror_mode": {
    "name": "ipython",
    "version": 3
   },
   "file_extension": ".py",
   "mimetype": "text/x-python",
   "name": "python",
   "nbconvert_exporter": "python",
   "pygments_lexer": "ipython3",
   "version": "3.8.5"
  },
  "toc": {
   "base_numbering": 1,
   "nav_menu": {},
   "number_sections": true,
   "sideBar": true,
   "skip_h1_title": false,
   "title_cell": "Table of Contents",
   "title_sidebar": "Contents",
   "toc_cell": false,
   "toc_position": {},
   "toc_section_display": true,
   "toc_window_display": false
  },
  "varInspector": {
   "cols": {
    "lenName": 16,
    "lenType": 16,
    "lenVar": 40
   },
   "kernels_config": {
    "python": {
     "delete_cmd_postfix": "",
     "delete_cmd_prefix": "del ",
     "library": "var_list.py",
     "varRefreshCmd": "print(var_dic_list())"
    },
    "r": {
     "delete_cmd_postfix": ") ",
     "delete_cmd_prefix": "rm(",
     "library": "var_list.r",
     "varRefreshCmd": "cat(var_dic_list()) "
    }
   },
   "types_to_exclude": [
    "module",
    "function",
    "builtin_function_or_method",
    "instance",
    "_Feature"
   ],
   "window_display": false
  }
 },
 "nbformat": 4,
 "nbformat_minor": 4
}
